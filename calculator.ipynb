{
 "cells": [
  {
   "cell_type": "code",
   "execution_count": 2,
   "id": "4b977fcf-d35a-4dfa-9695-517376e12f1a",
   "metadata": {},
   "outputs": [],
   "source": [
    "from tkinter import *\n",
    "from tkinter import messagebox\n",
    "root=Tk()\n",
    "root.title('calculator')\n",
    "root.geometry('410x400')\n",
    "root.configure(background='gray')\n",
    "entry =Entry(root,borderwidth=15,fg=\"black\", width=60)\n",
    "entry.grid(row=0, column=0,columnspan=3,pady=15)\n",
    "def myclick(number):\n",
    "    entry.insert(tk.END, number)\n",
    "def equal():\n",
    "    \n",
    "    try:\n",
    "        y = str(eval(entry.get()))\n",
    "        entry.delete(0, tk.END)\n",
    "        entry.insert(0, y)\n",
    "    except:\n",
    "        tkinter.messagebox.showinfo(\"Error\", \"Syntax Error\")\n",
    "def clear():\n",
    "    entry.delete(0, tk.END)\n",
    "B1= Button(root, text='1',bg=\"PINK\",fg=\"black\", width=18,height=3,command=lambda:myclick(1))\n",
    "B1.grid(row=1, column=0)\n",
    "B2 =Button(root, text='2',bg=\"PINK\",fg=\"black\",width=18,height=3,command=lambda: myclick(2))\n",
    "B2.grid(row=1,column=1)\n",
    "B3 = Button(root, text='3',bg=\"PINK\",fg=\"black\", width=18,height=3,command=lambda: myclick(3))\n",
    "B3.grid(row=1,column=2)\n",
    "B4= Button(root, text='4',bg=\"PINK\",fg=\"black\", width=18,height=3,command=lambda: myclick(4))\n",
    "B4.grid(row=2, column=0)\n",
    "B5 = Button(root, text='5',bg=\"PINK\",fg=\"black\" ,width=18,height=3,command=lambda: myclick(5))\n",
    "B5.grid(row=2,column=1)\n",
    "B6 = Button(root, text='6',bg=\"PINK\",fg=\"black\", width=18,height=3,command=lambda: myclick(6))\n",
    "B6.grid(row=2,column=2)\n",
    "B7= Button(root, text='7',bg=\"PINK\",fg=\"black\", width=18,height=3,command=lambda: myclick(7))\n",
    "B7.grid(row=3, column=0)\n",
    "B8 = Button(root, text='8',bg=\"PINK\",fg=\"black\" ,width=18,height=3,command=lambda: myclick(8))\n",
    "B8.grid(row=3,column=1)\n",
    "B9 = Button(root, text='9',bg=\"PINK\",fg=\"black\", width=18,height=3,command=lambda: myclick(9))\n",
    "B9.grid(row=3,column=2)\n",
    "B0=Button(root, text='9',bg=\"PINK\",fg=\"black\", width=18,height=3,command=lambda: myclick(0))\n",
    "B0.grid(row=4,column=0)\n",
    "button_div = Button(root, text=\"/\",width=18,bg=\"PINK\",fg=\"black\",height=3,command=lambda: myclick('/'))\n",
    "button_div.grid(row=4, column=1)\n",
    "button_clear =Button(root, text=\"=\", bg=\"PINK\",fg=\"black\",width=18, height=3,command=equal)\n",
    "button_clear.grid(row=4, column=2)\n",
    "button_add =Button(root, text=\"+\", bg=\"PINK\",fg=\"black\",width=18,height=3,command=lambda:myclick('+') )\n",
    "button_add.grid(row=5, column=0)\n",
    "button_subtract = Button(root, text=\"-\",bg=\"PINK\",fg=\"black\", width=18,height=3,command=lambda: myclick('-') )\n",
    "button_subtract.grid(row=5, column=1)\n",
    "button_multiply = Button(root, text=\"*\",bg=\"PINK\",fg=\"black\", width=18,height=3,command=lambda: myclick('*'))\n",
    "button_multiply.grid(row=5, column=2)\n",
    "button_clear = Button(root, text=\"AC\", bg=\"PINK\",fg=\"black\",width=57, height=2,command=clear)\n",
    "button_clear.grid(row=6, column=0,columnspan=3)\n",
    "\n",
    "root.mainloop()"
   ]
  },
  {
   "cell_type": "code",
   "execution_count": null,
   "id": "ff59d3e1-dfcd-468f-9c0a-169b6fea5bc9",
   "metadata": {},
   "outputs": [],
   "source": []
  },
  {
   "cell_type": "code",
   "execution_count": null,
   "id": "b340223a-ab31-40b1-a37a-61732ca0a23b",
   "metadata": {},
   "outputs": [],
   "source": []
  }
 ],
 "metadata": {
  "kernelspec": {
   "display_name": "Python 3 (ipykernel)",
   "language": "python",
   "name": "python3"
  },
  "language_info": {
   "codemirror_mode": {
    "name": "ipython",
    "version": 3
   },
   "file_extension": ".py",
   "mimetype": "text/x-python",
   "name": "python",
   "nbconvert_exporter": "python",
   "pygments_lexer": "ipython3",
   "version": "3.9.12"
  }
 },
 "nbformat": 4,
 "nbformat_minor": 5
}
